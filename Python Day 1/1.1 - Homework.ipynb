{
 "cells": [
  {
   "cell_type": "markdown",
   "metadata": {},
   "source": [
    "\n",
    " \n",
    "# Functions\n",
    "\n",
    "### Now is your turn to build a function. "
   ]
  },
  {
   "cell_type": "markdown",
   "metadata": {},
   "source": [
    "Build a function (or multiple functions) that calculates the regression line of a data sets (multiple weights of the body and brains of various mamals).\n",
    "\n",
    "Remember that the formula of a line is:\n",
    "##### $ Y = mx + n $\n",
    "\n",
    "$m$ is the slope, and is calculated using this formula:\n",
    "\n",
    "# $m = \\frac{\\bar{x} · \\bar{y} - \\overline{xy}}{(\\bar{x})^2 - \\overline{x^2}}$\n",
    "\n",
    "$n$ is the Y_axis interception, and is calculated like this:\n",
    "\n",
    "# $ n = \\bar{y} - m\\bar{x} $"
   ]
  },
  {
   "cell_type": "code",
   "execution_count": null,
   "metadata": {
    "collapsed": true
   },
   "outputs": [],
   "source": [
    "Brain_weight = [3.385, 0.48, 1.35, 14.83, 1.04, 4.19, 0.425, 0.101, 0.92, 1.0, 0.005, 0.06, 3.5, 2.0, 1.7, 0.023, 0.785, 3.3, 0.2, 1.41, 0.75, 3.5, 35.0, 4.05, 0.12, 0.023, 0.01, 1.4, 2.5, 0.55, 60.0, 3.6, 4.288, 0.28, 0.075, 0.122, 0.048, 3.0, 0.9, 1.62, 0.104, 4.235]\n",
    "Body_weight = [44.5, 15.5, 8.1, 98.2, 5.5, 58.0, 6.4, 4.0, 5.7, 6.6, 0.14, 1.0, 10.8, 12.3, 6.3, 0.3, 3.5, 25.6, 5.0, 17.5, 12.3, 3.9, 56.0, 17.0, 1.0, 0.4, 0.25, 12.5, 12.1, 2.4, 81.0, 21.0, 39.2, 1.9, 1.2, 3.0, 0.33, 25.0, 2.6, 11.4, 2.5, 50.4]"
   ]
  },
  {
   "cell_type": "markdown",
   "metadata": {},
   "source": [
    "- To do this calculations you can import the $statistics$ module(library) and use the $mean()$ function, but this module is probably not installed in your computer.\n",
    "- Another function for calculate the mean is the $numpy.mean()$, this function is slower than the statistics because is mainly used to compute the mean value of a $numpy.array$. \n",
    "- The last and more challenging function is your own. Try to built a function that calculates the mean value of a list."
   ]
  },
  {
   "cell_type": "code",
   "execution_count": null,
   "metadata": {
    "collapsed": true
   },
   "outputs": [],
   "source": [
    "# Remember, this is an example of code that import functions from libraries/modules installed in your python\n",
    "from numpy import mean"
   ]
  },
  {
   "cell_type": "markdown",
   "metadata": {},
   "source": [
    "Finally, you have a function below this comment that plots the $Brain$-$weight$ data, $Body$-$weight$ data and the regression line, passing the $m$ and $n$ values as arguments(in this order)"
   ]
  },
  {
   "cell_type": "code",
   "execution_count": null,
   "metadata": {
    "collapsed": true
   },
   "outputs": [],
   "source": [
    "import matplotlib.pyplot as plt\n",
    "from matplotlib import style\n",
    "%matplotlib inline\n",
    "\n",
    "style.use('fivethirtyeight')\n",
    "\n",
    "def show_regression(m, n):\n",
    "    regression_line = [m*x+n for x in Brain_weight]\n",
    "    plt.scatter(Brain_weight,Body_weight)\n",
    "    plt.plot(Brain_weight, regression_line)"
   ]
  },
  {
   "cell_type": "markdown",
   "metadata": {},
   "source": [
    "\n",
    "\n",
    "###     Please, use $Brain$-$weight$ as $x$ values, and $Body$-$weight$ as $y$ values"
   ]
  },
  {
   "cell_type": "code",
   "execution_count": null,
   "metadata": {
    "collapsed": true
   },
   "outputs": [],
   "source": [
    "def regression(xs,ys):\n",
    "    '''\n",
    "    \n",
    "    Your Code\n",
    "    \n",
    "    \n",
    "    '''\n",
    "    return m, n"
   ]
  },
  {
   "cell_type": "code",
   "execution_count": null,
   "metadata": {
    "collapsed": true
   },
   "outputs": [],
   "source": []
  },
  {
   "cell_type": "code",
   "execution_count": null,
   "metadata": {
    "collapsed": true
   },
   "outputs": [],
   "source": []
  },
  {
   "cell_type": "code",
   "execution_count": null,
   "metadata": {
    "collapsed": true
   },
   "outputs": [],
   "source": []
  }
 ],
 "metadata": {
  "kernelspec": {
   "display_name": "Python (MD)",
   "language": "python",
   "name": "myenv"
  },
  "language_info": {
   "codemirror_mode": {
    "name": "ipython",
    "version": 3
   },
   "file_extension": ".py",
   "mimetype": "text/x-python",
   "name": "python",
   "nbconvert_exporter": "python",
   "pygments_lexer": "ipython3",
   "version": "3.6.1"
  }
 },
 "nbformat": 4,
 "nbformat_minor": 2
}
