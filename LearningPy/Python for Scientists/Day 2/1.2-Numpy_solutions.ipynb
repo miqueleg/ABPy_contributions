{
 "cells": [
  {
   "cell_type": "markdown",
   "metadata": {
    "deletable": true,
    "editable": true
   },
   "source": [
    "# 1.2 - Numpy excercises [SOLVED]"
   ]
  },
  {
   "cell_type": "code",
   "execution_count": 11,
   "metadata": {
    "collapsed": true,
    "deletable": true,
    "editable": true
   },
   "outputs": [],
   "source": [
    "import numpy as np"
   ]
  },
  {
   "cell_type": "markdown",
   "metadata": {
    "deletable": true,
    "editable": true
   },
   "source": [
    "### Exercise: Removing negative numbers with *Fancy Indexing*\n",
    "\n",
    "We have an array that has small negative numbers and we want to remove them, converting them to zero. First, we generate a random array."
   ]
  },
  {
   "cell_type": "code",
   "execution_count": 12,
   "metadata": {
    "collapsed": false,
    "deletable": true,
    "editable": true
   },
   "outputs": [
    {
     "data": {
      "text/plain": [
       "array([[ 0.3507979 ,  0.50814782,  0.09090474,  0.31082761],\n",
       "       [ 0.69294695,  0.69629309, -0.07441469,  0.00724288],\n",
       "       [-0.1485328 ,  0.24080984, -0.17012379,  0.25683322],\n",
       "       [ 0.44914405,  0.07848728,  0.4762549 ,  0.39086282],\n",
       "       [-0.17601812,  0.35885409,  0.05925245,  0.2151012 ]])"
      ]
     },
     "execution_count": 12,
     "metadata": {},
     "output_type": "execute_result"
    }
   ],
   "source": [
    "np.random.seed(3)\n",
    "a = np.random.random((5,4))-.2\n",
    "a"
   ]
  },
  {
   "cell_type": "code",
   "execution_count": 13,
   "metadata": {
    "collapsed": false,
    "deletable": true,
    "editable": true
   },
   "outputs": [
    {
     "data": {
      "text/plain": [
       "array([[ 0.3507979 ,  0.50814782,  0.09090474,  0.31082761],\n",
       "       [ 0.69294695,  0.69629309,  0.        ,  0.00724288],\n",
       "       [ 0.        ,  0.24080984,  0.        ,  0.25683322],\n",
       "       [ 0.44914405,  0.07848728,  0.4762549 ,  0.39086282],\n",
       "       [ 0.        ,  0.35885409,  0.05925245,  0.2151012 ]])"
      ]
     },
     "execution_count": 13,
     "metadata": {},
     "output_type": "execute_result"
    }
   ],
   "source": [
    "a[(1,2,2,4),(2,2,0,0)] = 0\n",
    "a"
   ]
  },
  {
   "cell_type": "markdown",
   "metadata": {
    "deletable": true,
    "editable": true
   },
   "source": [
    "### Exercise: Removing negative numbers with *Boolean mask*"
   ]
  },
  {
   "cell_type": "code",
   "execution_count": 14,
   "metadata": {
    "collapsed": false,
    "deletable": true,
    "editable": true
   },
   "outputs": [
    {
     "data": {
      "text/plain": [
       "array([[ 0.3507979 ,  0.50814782,  0.09090474,  0.31082761],\n",
       "       [ 0.69294695,  0.69629309, -0.07441469,  0.00724288],\n",
       "       [-0.1485328 ,  0.24080984, -0.17012379,  0.25683322],\n",
       "       [ 0.44914405,  0.07848728,  0.4762549 ,  0.39086282],\n",
       "       [-0.17601812,  0.35885409,  0.05925245,  0.2151012 ]])"
      ]
     },
     "execution_count": 14,
     "metadata": {},
     "output_type": "execute_result"
    }
   ],
   "source": [
    "np.random.seed(3) #This way we can reproduce the same \"random\" array as before.\n",
    "a = np.random.random((5,4))-.2\n",
    "a"
   ]
  },
  {
   "cell_type": "code",
   "execution_count": 15,
   "metadata": {
    "collapsed": false,
    "deletable": true,
    "editable": true
   },
   "outputs": [
    {
     "data": {
      "text/plain": [
       "array([[ 0.3507979 ,  0.50814782,  0.09090474,  0.31082761],\n",
       "       [ 0.69294695,  0.69629309,  0.        ,  0.00724288],\n",
       "       [ 0.        ,  0.24080984,  0.        ,  0.25683322],\n",
       "       [ 0.44914405,  0.07848728,  0.4762549 ,  0.39086282],\n",
       "       [ 0.        ,  0.35885409,  0.05925245,  0.2151012 ]])"
      ]
     },
     "execution_count": 15,
     "metadata": {},
     "output_type": "execute_result"
    }
   ],
   "source": [
    "mask = [a<0]\n",
    "a[mask]=0\n",
    "a"
   ]
  },
  {
   "cell_type": "markdown",
   "metadata": {
    "deletable": true,
    "editable": true
   },
   "source": [
    "Just to let you know, there's an alternative method for which the initial array a will not be modified"
   ]
  },
  {
   "cell_type": "code",
   "execution_count": 16,
   "metadata": {
    "collapsed": false,
    "deletable": true,
    "editable": true
   },
   "outputs": [
    {
     "data": {
      "text/plain": [
       "array([[ 0.3507979 ,  0.50814782,  0.09090474,  0.31082761],\n",
       "       [ 0.69294695,  0.69629309,  0.        ,  0.00724288],\n",
       "       [ 0.        ,  0.24080984,  0.        ,  0.25683322],\n",
       "       [ 0.44914405,  0.07848728,  0.4762549 ,  0.39086282],\n",
       "       [ 0.        ,  0.35885409,  0.05925245,  0.2151012 ]])"
      ]
     },
     "execution_count": 16,
     "metadata": {},
     "output_type": "execute_result"
    }
   ],
   "source": [
    "i = np.where(a<0,0,a)\n",
    "i"
   ]
  },
  {
   "cell_type": "markdown",
   "metadata": {
    "deletable": true,
    "editable": true
   },
   "source": [
    "# Homework\n",
    "### Dot product\n",
    "\n",
    "if __A__ is an _n × m_ matrix and __B__ is an _m × p_ matrix,\n",
    "\n",
    "$ A_{n,m} = \n",
    " \\begin{pmatrix}\n",
    "  a_{1,1} & a_{1,2} & \\cdots & a_{1,m} \\\\\n",
    "  a_{2,1} & a_{2,2} & \\cdots & a_{2,m} \\\\\n",
    "  \\vdots  & \\vdots  & \\ddots & \\vdots  \\\\\n",
    "  a_{n,1} & a_{n,2} & \\cdots & a_{n,m} \n",
    " \\end{pmatrix}\n",
    " $\n",
    " \n",
    " ##### $ B_{m,p} = \n",
    " \\begin{pmatrix}\n",
    "  b_{1,1} & b_{1,2} & \\cdots & b_{1,p} \\\\\n",
    "  b_{2,1} & b_{2,2} & \\cdots & b_{2,p} \\\\\n",
    "  \\vdots  & \\vdots  & \\ddots & \\vdots  \\\\\n",
    "  b_{m,1} & b_{m,2} & \\cdots & b_{m,p} \n",
    " \\end{pmatrix}\n",
    " $\n",
    " \n",
    " The __matrix product AB__ (denoted without multiplication signs or dots) is defined to be the _n × p_ matrix\n",
    " \n",
    " ##### $ AB_{n,p} = \n",
    " \\begin{pmatrix}\n",
    "  (ab)_{1,1} & (ab)_{1,2} & \\cdots & (ab)_{1,p} \\\\\n",
    "  (ab)_{2,1} & (ab)_{2,2} & \\cdots & (ab)_{2,p} \\\\\n",
    "  \\vdots  & \\vdots  & \\ddots & \\vdots  \\\\\n",
    "  (ab)_{n,1} & (ab)_{n,2} & \\cdots & (ab)_{n,p} \n",
    " \\end{pmatrix}\n",
    " $\n",
    " \n",
    " where each _i, j_ entry is given by multiplying the entries $A_{ik}$ (across row i of A) by the entries $B_{kj}$ (down column j of B), for k = 1, 2, ..., m, and summing the results over k:\n",
    " \n",
    "$(AB)_{ij} = \\displaystyle\\sum_{k=1}^{m} A_{ik}B_{kj}$\n"
   ]
  },
  {
   "cell_type": "markdown",
   "metadata": {
    "deletable": true,
    "editable": true
   },
   "source": [
    "### Exercise:\n",
    "The dot product is so common that it is implemented in numpy. But if it was not there, could you code it?"
   ]
  },
  {
   "cell_type": "code",
   "execution_count": 3,
   "metadata": {
    "collapsed": false,
    "deletable": true,
    "editable": true
   },
   "outputs": [],
   "source": [
    "A = np.random.randint(0,50,35).reshape(7,5)\n",
    "B = np.random.randint(50,100,35).reshape(5,7)"
   ]
  },
  {
   "cell_type": "code",
   "execution_count": 4,
   "metadata": {
    "collapsed": false,
    "deletable": true,
    "editable": true
   },
   "outputs": [],
   "source": [
    "[n,m] = A.shape"
   ]
  },
  {
   "cell_type": "code",
   "execution_count": 5,
   "metadata": {
    "collapsed": false,
    "deletable": true,
    "editable": true
   },
   "outputs": [],
   "source": [
    "[m,p] = B.shape"
   ]
  },
  {
   "cell_type": "code",
   "execution_count": 6,
   "metadata": {
    "collapsed": false,
    "deletable": true,
    "editable": true
   },
   "outputs": [
    {
     "data": {
      "text/plain": [
       "array([[ 0.,  0.,  0.,  0.,  0.,  0.,  0.],\n",
       "       [ 0.,  0.,  0.,  0.,  0.,  0.,  0.],\n",
       "       [ 0.,  0.,  0.,  0.,  0.,  0.,  0.],\n",
       "       [ 0.,  0.,  0.,  0.,  0.,  0.,  0.],\n",
       "       [ 0.,  0.,  0.,  0.,  0.,  0.,  0.],\n",
       "       [ 0.,  0.,  0.,  0.,  0.,  0.,  0.],\n",
       "       [ 0.,  0.,  0.,  0.,  0.,  0.,  0.]])"
      ]
     },
     "execution_count": 6,
     "metadata": {},
     "output_type": "execute_result"
    }
   ],
   "source": [
    "AB = np.zeros((n,p))\n",
    "AB"
   ]
  },
  {
   "cell_type": "code",
   "execution_count": 7,
   "metadata": {
    "collapsed": false,
    "deletable": true,
    "editable": true
   },
   "outputs": [
    {
     "data": {
      "text/plain": [
       "array([[  7260.,   4550.,   6228.,   5081.,   5123.,   5806.,   5795.],\n",
       "       [ 11950.,   9302.,  11006.,  10785.,  11130.,  10778.,  10459.],\n",
       "       [  9444.,   6284.,   8660.,   7957.,   7957.,   8124.,   8081.],\n",
       "       [  8306.,   5986.,   7906.,   7201.,   7354.,   7266.,   7191.],\n",
       "       [  9424.,   7624.,   9060.,   8068.,   8696.,   8888.,   8216.],\n",
       "       [ 10253.,   8252.,   9774.,   9321.,   9780.,   9473.,   9054.],\n",
       "       [ 13900.,  10960.,  12694.,  11232.,  12063.,  12666.,  11786.]])"
      ]
     },
     "execution_count": 7,
     "metadata": {},
     "output_type": "execute_result"
    }
   ],
   "source": [
    "AB = np.zeros((n,p))\n",
    "\n",
    "for i in range(n):\n",
    "    for j in range(p):\n",
    "        for k in range(m):\n",
    "            AB[i,j] += A[i,k] * B[k,j]\n",
    "AB"
   ]
  },
  {
   "cell_type": "code",
   "execution_count": 8,
   "metadata": {
    "collapsed": false,
    "deletable": true,
    "editable": true
   },
   "outputs": [
    {
     "name": "stdout",
     "output_type": "stream",
     "text": [
      "1000 loops, best of 3: 200 µs per loop\n"
     ]
    }
   ],
   "source": [
    "%%timeit\n",
    "for i in range(n):\n",
    "    for j in range(p):\n",
    "        for k in range(m):\n",
    "            AB[i,j] += A[i,k] * B[k,j]"
   ]
  },
  {
   "cell_type": "markdown",
   "metadata": {
    "deletable": true,
    "editable": true
   },
   "source": [
    "The following code with massive list comprehension uses a smart trick. \n",
    "\n",
    "__*Challenge*__ Can you recognise and understand it?"
   ]
  },
  {
   "cell_type": "code",
   "execution_count": 9,
   "metadata": {
    "collapsed": false,
    "deletable": true,
    "editable": true
   },
   "outputs": [
    {
     "data": {
      "text/plain": [
       "[[7260, 4550, 6228, 5081, 5123, 5806, 5795],\n",
       " [11950, 9302, 11006, 10785, 11130, 10778, 10459],\n",
       " [9444, 6284, 8660, 7957, 7957, 8124, 8081],\n",
       " [8306, 5986, 7906, 7201, 7354, 7266, 7191],\n",
       " [9424, 7624, 9060, 8068, 8696, 8888, 8216],\n",
       " [10253, 8252, 9774, 9321, 9780, 9473, 9054],\n",
       " [13900, 10960, 12694, 11232, 12063, 12666, 11786]]"
      ]
     },
     "execution_count": 9,
     "metadata": {},
     "output_type": "execute_result"
    }
   ],
   "source": [
    "AB = [[sum(a*b for a,b in zip(A_row,B_col)) for B_col in zip(*B)] for A_row in A]\n",
    "AB"
   ]
  },
  {
   "cell_type": "code",
   "execution_count": 10,
   "metadata": {
    "collapsed": false,
    "deletable": true,
    "editable": true
   },
   "outputs": [
    {
     "name": "stdout",
     "output_type": "stream",
     "text": [
      "10000 loops, best of 3: 159 µs per loop\n"
     ]
    }
   ],
   "source": [
    "%%timeit\n",
    "AB = [[sum(a*b for a,b in zip(A_row,B_col)) for B_col in zip(*B)] for A_row in A]"
   ]
  },
  {
   "cell_type": "code",
   "execution_count": 11,
   "metadata": {
    "collapsed": false,
    "deletable": true,
    "editable": true
   },
   "outputs": [
    {
     "data": {
      "text/plain": [
       "array([[ 7260,  4550,  6228,  5081,  5123,  5806,  5795],\n",
       "       [11950,  9302, 11006, 10785, 11130, 10778, 10459],\n",
       "       [ 9444,  6284,  8660,  7957,  7957,  8124,  8081],\n",
       "       [ 8306,  5986,  7906,  7201,  7354,  7266,  7191],\n",
       "       [ 9424,  7624,  9060,  8068,  8696,  8888,  8216],\n",
       "       [10253,  8252,  9774,  9321,  9780,  9473,  9054],\n",
       "       [13900, 10960, 12694, 11232, 12063, 12666, 11786]])"
      ]
     },
     "execution_count": 11,
     "metadata": {},
     "output_type": "execute_result"
    }
   ],
   "source": [
    "A.dot(B)"
   ]
  },
  {
   "cell_type": "code",
   "execution_count": 12,
   "metadata": {
    "collapsed": false,
    "deletable": true,
    "editable": true
   },
   "outputs": [
    {
     "name": "stdout",
     "output_type": "stream",
     "text": [
      "The slowest run took 25.97 times longer than the fastest. This could mean that an intermediate result is being cached.\n",
      "1000000 loops, best of 3: 1.19 µs per loop\n"
     ]
    }
   ],
   "source": [
    "%%timeit\n",
    "A.dot(B)"
   ]
  },
  {
   "cell_type": "code",
   "execution_count": null,
   "metadata": {
    "collapsed": true,
    "deletable": true,
    "editable": true
   },
   "outputs": [],
   "source": []
  }
 ],
 "metadata": {
  "celltoolbar": "Raw Cell Format",
  "kernelspec": {
   "display_name": "Python 3",
   "language": "python",
   "name": "python3"
  },
  "language_info": {
   "codemirror_mode": {
    "name": "ipython",
    "version": 3
   },
   "file_extension": ".py",
   "mimetype": "text/x-python",
   "name": "python",
   "nbconvert_exporter": "python",
   "pygments_lexer": "ipython3",
   "version": "3.6.1"
  }
 },
 "nbformat": 4,
 "nbformat_minor": 2
}
