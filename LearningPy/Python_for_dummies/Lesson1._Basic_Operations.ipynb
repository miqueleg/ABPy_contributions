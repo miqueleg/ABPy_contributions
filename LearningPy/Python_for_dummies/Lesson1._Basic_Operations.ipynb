{
 "cells": [
  {
   "cell_type": "markdown",
   "metadata": {},
   "source": [
    "# **LESSON 1: BASIC NUMBERS OPERATIONS**"
   ]
  },
  {
   "cell_type": "markdown",
   "metadata": {},
   "source": [
    "### EXERCISE 1. The basic operations"
   ]
  },
  {
   "cell_type": "markdown",
   "metadata": {},
   "source": [
    "###### Try to know what are the outputs that this code will print:"
   ]
  },
  {
   "cell_type": "code",
   "execution_count": null,
   "metadata": {},
   "outputs": [],
   "source": [
    "a = 21\n",
    "b = 10\n",
    "c = 0\n",
    "\n",
    "c = a + b\n",
    "print \"Line 1 - Value of c is \", c\n",
    "\n",
    "c = a - b\n",
    "print \"Line 2 - Value of c is \", c \n",
    "\n",
    "c = a * b\n",
    "print \"Line 3 - Value of c is \", c \n",
    "\n",
    "c = a / b\n",
    "print \"Line 4 - Value of c is \", c \n",
    "\n",
    "c = a % b\n",
    "print \"Line 5 - Value of c is \", c\n",
    "\n",
    "a = 2\n",
    "b = 3\n",
    "c = a**b \n",
    "print \"Line 6 - Value of c is \", c\n",
    "\n",
    "a = 10\n",
    "b = 6\n",
    "c = a//b \n",
    "print \"Line 7 - Value of c is \", c\n"
   ]
  },
  {
   "cell_type": "markdown",
   "metadata": {},
   "source": [
    "#### Did you guesed what the '%', '**' and '//' operators does?"
   ]
  },
  {
   "cell_type": "markdown",
   "metadata": {},
   "source": [
    "### EXERCISE 2. Assignments and equalities"
   ]
  },
  {
   "cell_type": "markdown",
   "metadata": {},
   "source": [
    "###### Try to know what are the outputs that this codes below:"
   ]
  },
  {
   "cell_type": "code",
   "execution_count": null,
   "metadata": {},
   "outputs": [],
   "source": [
    "i = 9\n",
    "b = 4\n",
    "c = 13\n",
    "\n",
    "a = i + b\n",
    "\n",
    "print (a == c)"
   ]
  },
  {
   "cell_type": "code",
   "execution_count": null,
   "metadata": {},
   "outputs": [],
   "source": [
    "i = 9\n",
    "b = 4\n",
    "c = 13\n",
    "\n",
    "a = i + b\n",
    "\n",
    "print (a is c)"
   ]
  },
  {
   "cell_type": "code",
   "execution_count": null,
   "metadata": {},
   "outputs": [],
   "source": [
    "i = 9.\n",
    "b = 4.\n",
    "c = 13\n",
    "\n",
    "a = i + b\n",
    "\n",
    "print (a == c)"
   ]
  },
  {
   "cell_type": "code",
   "execution_count": null,
   "metadata": {},
   "outputs": [],
   "source": [
    "i = 9.\n",
    "b = 4.\n",
    "c = 13\n",
    "\n",
    "a = i + b\n",
    "\n",
    "print (a is c)"
   ]
  },
  {
   "cell_type": "markdown",
   "metadata": {},
   "source": [
    "### EXERCISE 3. Strings"
   ]
  },
  {
   "cell_type": "markdown",
   "metadata": {},
   "source": [
    "###### Write a code that prints the sentence using variables (use the format() method):\n",
    "*if you dont know what the raw_input() method does, how to use format() or split(), USE GOOGLE!*"
   ]
  },
  {
   "cell_type": "code",
   "execution_count": null,
   "metadata": {},
   "outputs": [],
   "source": [
    "name_and_surname = raw_input('Introduce your name and the surname ')\n",
    "age = raw_input('Introduce your age ')\n",
    "\n",
    "'''\n",
    "Some extra code is needed!\n",
    "\n",
    "'''\n",
    "\n",
    "\n",
    "print ('My name is SOMETHING HERE(name and surname) and I have SOMETHING HERE(age) years old.\\nMy name, SOMETHING HERE(name) starts with the letter SOMETHING HERE and the additions of the two digits of my age is SOMETHING HERE'.format())"
   ]
  },
  {
   "cell_type": "markdown",
   "metadata": {},
   "source": [
    " You can find lots of informations of string formating [here](https://docs.python.org/3.4/library/string.html)\n",
    "\n",
    " Also is a good idea to use the module [RegularExpressions(RE)](https://docs.python.org/2/library/re.html) (Up to you!)"
   ]
  },
  {
   "cell_type": "markdown",
   "metadata": {},
   "source": [
    "### EXERCISE 3. Strings"
   ]
  },
  {
   "cell_type": "markdown",
   "metadata": {},
   "source": [
    "###### 1. Try to know what are the outputs that this codes below:"
   ]
  },
  {
   "cell_type": "code",
   "execution_count": null,
   "metadata": {},
   "outputs": [],
   "source": [
    "a = list(range(5))\n",
    "print(a)"
   ]
  },
  {
   "cell_type": "code",
   "execution_count": null,
   "metadata": {},
   "outputs": [],
   "source": [
    "a = list(range(5))\n",
    "b = list(range(2))\n",
    "c = a + b \n",
    "print (c)"
   ]
  },
  {
   "cell_type": "code",
   "execution_count": null,
   "metadata": {},
   "outputs": [],
   "source": [
    "a = list(range(5))\n",
    "b = list(range(2))\n",
    "a.extend(b)\n",
    "print (a)"
   ]
  },
  {
   "cell_type": "code",
   "execution_count": null,
   "metadata": {},
   "outputs": [],
   "source": [
    "a = list(range(5))\n",
    "b = list(range(2))\n",
    "a.append(b)\n",
    "print (a)"
   ]
  },
  {
   "cell_type": "markdown",
   "metadata": {},
   "source": [
    "### EXERCISE 4. Lists, Tuples, Dictionaries"
   ]
  },
  {
   "cell_type": "markdown",
   "metadata": {},
   "source": [
    "###### Try to know what are the outputs that this codes below:"
   ]
  },
  {
   "cell_type": "code",
   "execution_count": null,
   "metadata": {},
   "outputs": [],
   "source": [
    "a = [1,2,3]\n",
    "b = [4,5]\n",
    "c = a\n",
    "a.append(b)\n",
    "print(a)\n",
    "print (c)\n"
   ]
  },
  {
   "cell_type": "code",
   "execution_count": null,
   "metadata": {},
   "outputs": [],
   "source": [
    "a = [1,2,3]\n",
    "b = [4,5]\n",
    "c = a\n",
    "a.append(b)\n",
    "d = a + b\n",
    "a.append('U')\n",
    "print(d)\n",
    "print (a)"
   ]
  },
  {
   "cell_type": "markdown",
   "metadata": {},
   "source": [
    "Use the web [PythonTutor](http://www.pythontutor.com/visualize.html) to visualize how the code computes the lists"
   ]
  },
  {
   "cell_type": "markdown",
   "metadata": {
    "collapsed": true
   },
   "source": [
    "###### Try to know what are the outputs that this codes below:"
   ]
  },
  {
   "cell_type": "code",
   "execution_count": null,
   "metadata": {},
   "outputs": [],
   "source": [
    "a = list(range(1,5))\n",
    "print (a[1])"
   ]
  },
  {
   "cell_type": "code",
   "execution_count": null,
   "metadata": {},
   "outputs": [],
   "source": [
    "a = list(range(1,5))\n",
    "b = a[:2]\n",
    "print(b)"
   ]
  },
  {
   "cell_type": "code",
   "execution_count": null,
   "metadata": {},
   "outputs": [],
   "source": [
    "a = list(range(1,5))\n",
    "b = a[2:]\n",
    "print(b)"
   ]
  },
  {
   "cell_type": "code",
   "execution_count": null,
   "metadata": {},
   "outputs": [],
   "source": [
    "a = list(range(1,5))\n",
    "b = a[::2]\n",
    "print(b)"
   ]
  },
  {
   "cell_type": "code",
   "execution_count": null,
   "metadata": {},
   "outputs": [],
   "source": [
    "a = list(range(1,5))\n",
    "b = a[::-1]\n",
    "print(b)"
   ]
  },
  {
   "cell_type": "code",
   "execution_count": null,
   "metadata": {
    "collapsed": true
   },
   "outputs": [],
   "source": [
    "###### Try to know what are the outputs that this codes below:"
   ]
  },
  {
   "cell_type": "code",
   "execution_count": null,
   "metadata": {},
   "outputs": [],
   "source": [
    "a = [1,2,3,4,[5,6,7]]\n",
    "print(a[4])"
   ]
  },
  {
   "cell_type": "code",
   "execution_count": null,
   "metadata": {},
   "outputs": [],
   "source": [
    "a = [1,2,3,4,[5,6,7]]\n",
    "print (a[4][::-1])"
   ]
  },
  {
   "cell_type": "code",
   "execution_count": null,
   "metadata": {},
   "outputs": [],
   "source": [
    "a = [1,2,3,4,[5,6,7]]\n",
    "a.remove(3)\n",
    "print(a)"
   ]
  },
  {
   "cell_type": "markdown",
   "metadata": {
    "collapsed": true
   },
   "source": [
    "### EXERCISE 5. Lists, Tuples, Dictionaries (AGAIN)"
   ]
  },
  {
   "cell_type": "markdown",
   "metadata": {
    "collapsed": true
   },
   "source": [
    "###### Execute the code below and answer the questions that will apear as an output:"
   ]
  },
  {
   "cell_type": "code",
   "execution_count": null,
   "metadata": {},
   "outputs": [],
   "source": [
    "from IPython.display import Image, display\n",
    "\n",
    "response1 = ''\n",
    "while response1 != 'dictionary':\n",
    "    response1 = raw_input('Imagine that you want to compile the output of distances/angles/dihedrals/... of multiples calculations/experiments/variants i only one variable. \\nWhich python variable will fit perfectly for this propose?')\n",
    "    if response1 != 'dictionary':\n",
    "        if response1 == 'list':\n",
    "            print ('\\x1b[1;31m'+'With a LIST/TUPLE you cannot compare the values with the experiment that belows!'+'\\x1b[0m'+'\\n')\n",
    "        else:\n",
    "            print('\\x1b[1;31m'+'Are you sure about that?, check if you spelled correctly the answer and write in minor case!'+'\\x1b[0m'+'\\n')\n",
    "    else:\n",
    "     display(Image(filename='test.png'))"
   ]
  },
  {
   "cell_type": "markdown",
   "metadata": {
    "collapsed": true
   },
   "source": [
    "Here we have this outputs: \n",
    "\n",
    "\n",
    "Execute the code below to define the variables."
   ]
  },
  {
   "cell_type": "code",
   "execution_count": 2,
   "metadata": {
    "collapsed": true
   },
   "outputs": [],
   "source": [
    "Spain = 46468102\n",
    "EEUU = 324289210\n",
    "Rusia = 146804372\n",
    "Madagascar = 24430325\n",
    "Xina = 1369811000"
   ]
  },
  {
   "cell_type": "markdown",
   "metadata": {},
   "source": [
    "##### This are some countries and the population. Create a dictionary containing this data."
   ]
  },
  {
   "cell_type": "code",
   "execution_count": null,
   "metadata": {
    "collapsed": true
   },
   "outputs": [],
   "source": []
  },
  {
   "cell_type": "markdown",
   "metadata": {},
   "source": [
    "### EXERCISE 6. If"
   ]
  },
  {
   "cell_type": "markdown",
   "metadata": {},
   "source": [
    "##### Create a code that converts an input mark (frome 0-100) to a letter using this table:\n",
    "\n",
    "A+          90-100<br>\n",
    "A             85-89<br>\n",
    "A-           80-84<br>\n",
    "B+          77-79<br>\n",
    "B             73-76<br>\n",
    "B-           70-72<br>\n",
    "C+          67-69<br>\n",
    "C            63-66<br>\n",
    "C-           60-62<br>\n",
    "D+          57-59<br>\n",
    "D            53-56<br>\n",
    "D-           50-52<br>\n",
    "F+           42-49<br>\n",
    "F             35-41<br>\n",
    "F-            0-34<br>"
   ]
  },
  {
   "cell_type": "code",
   "execution_count": 7,
   "metadata": {},
   "outputs": [
    {
     "name": "stdout",
     "output_type": "stream",
     "text": [
      "What is your grade(0-100)?0\n",
      "Your mark is Something here\n"
     ]
    }
   ],
   "source": [
    "Grade = input('What is your grade(0-100)?')\n",
    "\n",
    "\"\"\"\n",
    "Some Code\n",
    "\n",
    "\"\"\"\n",
    "\n",
    "print ('Your mark is '+'Something here'  )\n",
    "\n",
    "\n",
    "\n"
   ]
  },
  {
   "cell_type": "code",
   "execution_count": null,
   "metadata": {
    "collapsed": true
   },
   "outputs": [],
   "source": []
  },
  {
   "cell_type": "markdown",
   "metadata": {},
   "source": [
    "### EXERCISE 7. Loops"
   ]
  },
  {
   "cell_type": "markdown",
   "metadata": {},
   "source": [
    "Now if you look at the **EXERCICE 5** you can understand how the code that you have executed to show the question works."
   ]
  },
  {
   "cell_type": "markdown",
   "metadata": {},
   "source": [
    "Now imagine that you have to order the values that you compiled in the dictionary from bigger cowntries to smallers (in population).\n",
    "\n",
    "##### Do it! (with python loops)"
   ]
  },
  {
   "cell_type": "code",
   "execution_count": null,
   "metadata": {
    "collapsed": true
   },
   "outputs": [],
   "source": []
  },
  {
   "cell_type": "markdown",
   "metadata": {},
   "source": [
    "Finally, try to find the population growing rate of this cowtries on internet. \n",
    "\n",
    "Create a dictionary with the name of the cowntries as a key, and in the values another dictionary with the years as a keys (imagine that the original values are all from 2016) and the values of every year up to 2000"
   ]
  },
  {
   "cell_type": "code",
   "execution_count": null,
   "metadata": {
    "collapsed": true
   },
   "outputs": [],
   "source": []
  },
  {
   "cell_type": "markdown",
   "metadata": {},
   "source": [
    "### EXERCISE 8. Functions"
   ]
  },
  {
   "cell_type": "markdown",
   "metadata": {},
   "source": [
    "##### Can you reduce the lenght of the previous code using funcions?"
   ]
  },
  {
   "cell_type": "code",
   "execution_count": null,
   "metadata": {
    "collapsed": true
   },
   "outputs": [],
   "source": []
  }
 ],
 "metadata": {
  "anaconda-cloud": {},
  "kernelspec": {
   "display_name": "Python 2",
   "language": "python",
   "name": "python2"
  },
  "language_info": {
   "codemirror_mode": {
    "name": "ipython",
    "version": 2
   },
   "file_extension": ".py",
   "mimetype": "text/x-python",
   "name": "python",
   "nbconvert_exporter": "python",
   "pygments_lexer": "ipython2",
   "version": "2.7.5"
  }
 },
 "nbformat": 4,
 "nbformat_minor": 2
}
